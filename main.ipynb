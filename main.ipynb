{
 "cells": [
  {
   "cell_type": "code",
   "execution_count": null,
   "metadata": {},
   "outputs": [],
   "source": [
    "!pip install pandas\n",
    "!pip install matplotlib"
   ]
  },
  {
   "cell_type": "markdown",
   "metadata": {},
   "source": [
    "### prices"
   ]
  },
  {
   "cell_type": "code",
   "execution_count": null,
   "metadata": {},
   "outputs": [],
   "source": [
    "import pandas as pd\n",
    "\n",
    "# src: https://www.investing.com/crypto/bitcoin/btc-usd-historical-data\n",
    "def get_prices():\n",
    "    # Чтение CSV файла\n",
    "    df = pd.read_csv('BTC_USD_Bitfinex_2012-2024.csv', delimiter=',', thousands=',', decimal='.')\n",
    "    return df\n",
    "\n",
    "prices = get_prices()\n",
    "prices = prices[::-1].reset_index(drop=True)\n",
    "prices['Date'] = pd.to_datetime(prices['Date'])"
   ]
  },
  {
   "cell_type": "markdown",
   "metadata": {},
   "source": [
    "### halvings"
   ]
  },
  {
   "cell_type": "code",
   "execution_count": null,
   "metadata": {},
   "outputs": [],
   "source": [
    "import numpy as np\n",
    "from datetime import datetime, timedelta\n",
    "\n",
    "# Constants for the Bitcoin reward halving\n",
    "initial_reward = 50  # initial block reward\n",
    "halving_interval = 210000  # blocks per halving\n",
    "\n",
    "# Calculate the halving dates and rewards\n",
    "halving_dates = [\n",
    "    datetime(2009, 1, 3),  # Genesis block\n",
    "    datetime(2012, 11, 28),\n",
    "    datetime(2016, 7, 9),\n",
    "    datetime(2020, 5, 11),\n",
    "    datetime(2024, 4, 19)\n",
    "]\n",
    "\n",
    "halving_dates"
   ]
  },
  {
   "cell_type": "code",
   "execution_count": null,
   "metadata": {},
   "outputs": [],
   "source": [
    "# Calculate reward per block after each halving\n",
    "rewards = [initial_reward / (2 ** i) for i in range(len(halving_dates))]\n",
    "rewards"
   ]
  },
  {
   "cell_type": "markdown",
   "metadata": {},
   "source": [
    "### stock to flow"
   ]
  },
  {
   "cell_type": "code",
   "execution_count": null,
   "metadata": {},
   "outputs": [],
   "source": [
    "def get_stock_to_flow():\n",
    "    # Constants for the Bitcoin reward halving\n",
    "    halving_interval = 210000  # blocks per halving\n",
    "    # Create an empty list to hold the data\n",
    "    data = []\n",
    "    total_mined = 0  # Initial total mined\n",
    "    # Generate the dataset\n",
    "    for i in range(len(halving_dates)):\n",
    "        if (i < len(halving_dates) - 1):\n",
    "            # print(f'debug: True, {i}, {len(halving_dates)}')\n",
    "            start_date = halving_dates[i]\n",
    "            end_date = halving_dates[i + 1]\n",
    "            date_range = pd.date_range(start=start_date, end=end_date - timedelta(days=1), freq='D')\n",
    "            # Calculate blocks per day for this period\n",
    "            days_in_period = (end_date - start_date).days\n",
    "            blocks_per_day = halving_interval / days_in_period\n",
    "            current_reward = rewards[i]\n",
    "            for single_date in date_range:\n",
    "                daily_mined = blocks_per_day * current_reward\n",
    "                total_mined += daily_mined\n",
    "                yearly_mined = 365 * daily_mined\n",
    "                stock_to_flow = total_mined / yearly_mined\n",
    "                data.append([single_date, total_mined, daily_mined, yearly_mined, current_reward, stock_to_flow])\n",
    "        else:\n",
    "            # print(f'debug: False, {i}, {len(halving_dates)}')\n",
    "            start_date = halving_dates[i]\n",
    "            end_date = prices.iloc[-1]['Date']\n",
    "            date_range = pd.date_range(start=start_date, end=end_date - timedelta(days=1), freq='D')\n",
    "            # fixed 144 blocks per day for the last (incomplete) period.\n",
    "            blocks_per_day = 144\n",
    "            current_reward = rewards[i]\n",
    "            for single_date in date_range:\n",
    "                daily_mined = blocks_per_day * current_reward\n",
    "                total_mined += daily_mined\n",
    "                yearly_mined = 365 * daily_mined\n",
    "                stock_to_flow = total_mined / yearly_mined\n",
    "                data.append([single_date, total_mined, daily_mined, yearly_mined, current_reward, stock_to_flow])\n",
    "\n",
    "    # Convert to DataFrame\n",
    "    df = pd.DataFrame(data, columns=['Date', 'Total Mined', 'Daily Mined', 'Yearly Mined', 'Current Reward', 'Stock to Flow'])\n",
    "    return df\n",
    "\n",
    "# Generate and display the dataframe\n",
    "df = get_stock_to_flow()\n",
    "df\n"
   ]
  },
  {
   "cell_type": "markdown",
   "metadata": {},
   "source": [
    "### charts"
   ]
  },
  {
   "cell_type": "code",
   "execution_count": null,
   "metadata": {},
   "outputs": [],
   "source": [
    "len(df)"
   ]
  },
  {
   "cell_type": "code",
   "execution_count": null,
   "metadata": {},
   "outputs": [],
   "source": [
    "import matplotlib.pyplot as plt\n",
    "\n",
    "fig, ax1 = plt.subplots(figsize=(10, 6))\n",
    "\n",
    "first_price_date = prices['Date'].iloc[0]\n",
    "s2f = df[df['Date'] >= first_price_date]\n",
    "\n",
    "# Первая ось для Stock to Flow\n",
    "ax1.plot(s2f['Date'], np.log10(s2f['Stock to Flow']), label='Stock to Flow', color='b')\n",
    "ax1.set_xlabel('Date')\n",
    "ax1.set_ylabel('Stock to Flow', color='b')\n",
    "ax1.tick_params(axis='y', labelcolor='b')\n",
    "\n",
    "# Вторая ось для цены\n",
    "ax2 = ax1.twinx()\n",
    "ax2.plot(prices['Date'], np.log10(prices['Price']), label='Price', color='g')\n",
    "ax2.set_ylabel('Price', color='g')\n",
    "ax2.tick_params(axis='y', labelcolor='g')\n",
    "\n",
    "# Добавляем заголовок и легенду\n",
    "plt.title('Stock to Flow and Price over Time')\n",
    "fig.tight_layout()  # Для предотвращения наложения осей\n",
    "plt.show()\n"
   ]
  },
  {
   "cell_type": "code",
   "execution_count": null,
   "metadata": {},
   "outputs": [],
   "source": [
    "# now lets try to reproduce the result in the PlanB papper where there is a liniar depencency \n",
    "# between log price and log stock-to-flow ratio.\n",
    "\n",
    "# Убедимся, что есть только те даты, которые присутствуют в обоих DataFrame\n",
    "merged_df = pd.merge(prices[['Date', 'Price']], df[['Date', 'Stock to Flow']], on='Date', how='inner')\n",
    "\n",
    "# Строим график\n",
    "plt.figure(figsize=(6, 6))\n",
    "plt.loglog(merged_df['Stock to Flow'], merged_df['Price'], label='Price vs. Stock to Flow')\n",
    "\n",
    "# Добавляем подписи к осям и заголовок\n",
    "plt.xlabel('Stock to Flow (log scale)')\n",
    "plt.ylabel('Price (log scale)')\n",
    "plt.title('Price vs. Stock to Flow with Logarithmic Scales')\n",
    "plt.legend()\n",
    "plt.grid(True, which=\"both\", ls=\"--\")  # Логарифмическая сетка\n",
    "plt.show()\n"
   ]
  }
 ],
 "metadata": {
  "kernelspec": {
   "display_name": "venv",
   "language": "python",
   "name": "python3"
  },
  "language_info": {
   "codemirror_mode": {
    "name": "ipython",
    "version": 3
   },
   "file_extension": ".py",
   "mimetype": "text/x-python",
   "name": "python",
   "nbconvert_exporter": "python",
   "pygments_lexer": "ipython3",
   "version": "3.10.12"
  }
 },
 "nbformat": 4,
 "nbformat_minor": 2
}
